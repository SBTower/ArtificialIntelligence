{
 "cells": [
  {
   "cell_type": "markdown",
   "metadata": {},
   "source": [
    "# Introduction to Panda 3D Game Engine"
   ]
  },
  {
   "cell_type": "markdown",
   "metadata": {},
   "source": [
    "This notebook provides an introduction to the Panda3D game engine. We will build a simple demo application that gives a gentle introduction to the basics.\n",
    "\n",
    "We will create a simple program containing some grass and a panda moving around"
   ]
  },
  {
   "cell_type": "markdown",
   "metadata": {},
   "source": [
    "## ShowBase\n",
    "\n",
    "The ShowBase class loads most of the other Panda3D modules and causes the 3D window to appear. This code provides a simple example where there is nothing to render, so a blank window will be shown."
   ]
  },
  {
   "cell_type": "code",
   "execution_count": 1,
   "metadata": {
    "collapsed": true
   },
   "outputs": [],
   "source": [
    "from direct.showbase.ShowBase import ShowBase\n",
    " \n",
    "class MyApp(ShowBase):\n",
    " \n",
    "    def __init__(self):\n",
    "        ShowBase.__init__(self)\n",
    " \n",
    "app = MyApp()\n",
    "#app.run()\n",
    "for i in range(10):\n",
    "    taskMgr.step()"
   ]
  },
  {
   "cell_type": "markdown",
   "metadata": {
    "collapsed": true
   },
   "source": [
    "The `app.run()` call in ShowBase contains the Panda3D main loop, which renders a frame, handles the background tasks and then repeats. It doesn't return, and so in most cases it can be called only once at the end of the script. Inside it essentially contains an infinite loop calling `taskMgr.step()`, so here we have manually called this to prevent the infinite loop. The application can then be destroyed using the `app.destroy` function."
   ]
  },
  {
   "cell_type": "code",
   "execution_count": 2,
   "metadata": {
    "collapsed": true
   },
   "outputs": [],
   "source": [
    "app.destroy()"
   ]
  },
  {
   "cell_type": "markdown",
   "metadata": {},
   "source": [
    "## The Scene Graph\n",
    "\n",
    "Panda3D contains a data structure called the *Scene Graph*. The scene graph is a tree containing all models that need to be rendered."
   ]
  },
  {
   "cell_type": "markdown",
   "metadata": {},
   "source": [
    "To install the grassy scenery model into the Scene Graph, we use the method `reparentTo()` to put the model into the scene graph. The root of the tree is `render`, so the call is `reparentTo(self.render)`"
   ]
  },
  {
   "cell_type": "code",
   "execution_count": 3,
   "metadata": {
    "collapsed": true
   },
   "outputs": [],
   "source": [
    "class MyApp(ShowBase):\n",
    "    \n",
    "    def __init__(self):\n",
    "        ShowBase.__init__(self)\n",
    "        \n",
    "        # Load the environment model.\n",
    "        self.scene = self.loader.loadModel(\"models/environment\")\n",
    "        # Reparent the model to render.\n",
    "        self.scene.reparentTo(self.render)\n",
    "        # Apply scale and position transforms on the model.\n",
    "        self.scene.setScale(0.25, 0.25, 0.25)\n",
    "        self.scene.setPos(-8, 42, 0)\n",
    "        \n",
    "app = MyApp()\n",
    "#app.run()\n",
    "for i in range(10):\n",
    "    taskMgr.step()"
   ]
  },
  {
   "cell_type": "markdown",
   "metadata": {},
   "source": [
    "The above code will render the environment model. The `setScale()` and `setPos()` methods reposition and rescale the environment to fit in our window. Notice that the objects appear to be floating as the camera is set slightly below the ground, and back-face culling is making the ground invisible to us. By repositioning the camera, the terrain will look better."
   ]
  },
  {
   "cell_type": "code",
   "execution_count": 4,
   "metadata": {
    "collapsed": true
   },
   "outputs": [],
   "source": [
    "app.destroy()"
   ]
  },
  {
   "cell_type": "markdown",
   "metadata": {},
   "source": [
    "## Moving the Camera\n",
    "\n",
    "By default Panda3D runs a task that allows you to move the camera using the mouse.\n",
    "\n",
    "| Key            | Action                     |\n",
    "|--------------  |----------------------------|\n",
    "| Left Button    | Pan Left and Right         |\n",
    "| Right Button   | Move forwards and backwards|\n",
    "| Middle Button  | Rotate around the origin   |\n",
    "\n",
    "This can be trialled by running the previous code with `app.run()` instead of `taskMgr.step()`. Note that running this will require the kernel to be restarted in the notebook.\n",
    "\n",
    "This control method is useful, but can be awkward. Instead, we can write a *task* that controls the camera, updating its position every frame."
   ]
  },
  {
   "cell_type": "code",
   "execution_count": 5,
   "metadata": {
    "collapsed": true
   },
   "outputs": [],
   "source": [
    "from math import pi, sin, cos\n",
    " \n",
    "from direct.showbase.ShowBase import ShowBase\n",
    "from direct.task import Task\n",
    " \n",
    "class MyApp(ShowBase):\n",
    "    def __init__(self):\n",
    "        ShowBase.__init__(self)\n",
    " \n",
    "        # Load the environment model.\n",
    "        self.scene = self.loader.loadModel(\"models/environment\")\n",
    "        # Reparent the model to render.\n",
    "        self.scene.reparentTo(self.render)\n",
    "        # Apply scale and position transforms on the model.\n",
    "        self.scene.setScale(0.25, 0.25, 0.25)\n",
    "        self.scene.setPos(-8, 42, 0)\n",
    " \n",
    "        # Add the spinCameraTask procedure to the task manager.\n",
    "        self.taskMgr.add(self.spinCameraTask, \"SpinCameraTask\")\n",
    " \n",
    "    # Define a procedure to move the camera.\n",
    "    def spinCameraTask(self, task):\n",
    "        angleDegrees = task.time * 6.0\n",
    "        angleRadians = angleDegrees * (pi / 180.0)\n",
    "        self.camera.setPos(20 * sin(angleRadians), -20.0 * cos(angleRadians), 3)\n",
    "        self.camera.setHpr(angleDegrees, 0, 0)\n",
    "        return Task.cont\n",
    " \n",
    "app = MyApp()\n",
    "#app.run()\n",
    "for i in range(1000):\n",
    "    taskMgr.step()\n",
    "app.destroy()"
   ]
  },
  {
   "cell_type": "markdown",
   "metadata": {},
   "source": [
    "By adding the task to the taskMgr, the function gets called every time `taskMgr.step()` is called. By returning `Task.cont` the task manager will continue to call the function every frame. The `spinCameraTask` spins the camera by calculating the position based on the time the program has been running (`task.time`). "
   ]
  },
  {
   "cell_type": "markdown",
   "metadata": {},
   "source": [
    "## Actors\n",
    "\n",
    "The `Actor` class is for animated models. We can use `loadModel()` for loading static models such as environments, but use the `Actor` class when they need to move.\n",
    "\n",
    "An actor consists of a file containing the model and a Python dictionary containing the names of the files containing the animations. "
   ]
  },
  {
   "cell_type": "code",
   "execution_count": 6,
   "metadata": {
    "collapsed": true
   },
   "outputs": [],
   "source": [
    "from math import pi, sin, cos\n",
    " \n",
    "from direct.showbase.ShowBase import ShowBase\n",
    "from direct.task import Task\n",
    "from direct.actor.Actor import Actor\n",
    " \n",
    "class MyApp(ShowBase):\n",
    "    def __init__(self):\n",
    "        ShowBase.__init__(self)\n",
    " \n",
    "        # Load the environment model.\n",
    "        self.scene = self.loader.loadModel(\"models/environment\")\n",
    "        # Reparent the model to render.\n",
    "        self.scene.reparentTo(self.render)\n",
    "        # Apply scale and position transforms on the model.\n",
    "        self.scene.setScale(0.25, 0.25, 0.25)\n",
    "        self.scene.setPos(-8, 42, 0)\n",
    " \n",
    "        # Add the spinCameraTask procedure to the task manager.\n",
    "        self.taskMgr.add(self.spinCameraTask, \"SpinCameraTask\")\n",
    " \n",
    "        # Load and transform the panda actor.\n",
    "        self.pandaActor = Actor(\"models/panda-model\",\n",
    "                                {\"walk\": \"models/panda-walk4\"})\n",
    "        self.pandaActor.setScale(0.005, 0.005, 0.005)\n",
    "        self.pandaActor.reparentTo(self.render)\n",
    "        # Loop its animation.\n",
    "        self.pandaActor.loop(\"walk\")\n",
    " \n",
    "    # Define a procedure to move the camera.\n",
    "    def spinCameraTask(self, task):\n",
    "        angleDegrees = task.time * 6.0\n",
    "        angleRadians = angleDegrees * (pi / 180.0)\n",
    "        self.camera.setPos(20 * sin(angleRadians), -20.0 * cos(angleRadians), 3)\n",
    "        self.camera.setHpr(angleDegrees, 0, 0)\n",
    "        return Task.cont\n",
    "\n",
    "app = MyApp()\n",
    "#app.run()\n",
    "for i in range(1000):\n",
    "    taskMgr.step()\n",
    "app.destroy()"
   ]
  },
  {
   "cell_type": "markdown",
   "metadata": {},
   "source": [
    "## Intervals\n",
    "\n",
    "Intervals describe a process of changing a property over time from one value to another. Starting an interval starts a background process that modifies the property over the specified period of time.\n",
    "\n",
    "Several intervals can be executed in order by putting them into a `Sequence`.\n",
    "\n",
    "The code can be adjusted to make the panda move across the scene back and forth."
   ]
  },
  {
   "cell_type": "code",
   "execution_count": 7,
   "metadata": {
    "collapsed": true
   },
   "outputs": [],
   "source": [
    "from math import pi, sin, cos\n",
    " \n",
    "from direct.showbase.ShowBase import ShowBase\n",
    "from direct.task import Task\n",
    "from direct.actor.Actor import Actor\n",
    "from direct.interval.IntervalGlobal import Sequence\n",
    "from panda3d.core import Point3\n",
    " \n",
    "class MyApp(ShowBase):\n",
    "    def __init__(self):\n",
    "        ShowBase.__init__(self)\n",
    " \n",
    "        # Disable the camera trackball controls.\n",
    "        self.disableMouse()\n",
    " \n",
    "        # Load the environment model.\n",
    "        self.scene = self.loader.loadModel(\"models/environment\")\n",
    "        # Reparent the model to render.\n",
    "        self.scene.reparentTo(self.render)\n",
    "        # Apply scale and position transforms on the model.\n",
    "        self.scene.setScale(0.25, 0.25, 0.25)\n",
    "        self.scene.setPos(-8, 42, 0)\n",
    " \n",
    "        # Add the spinCameraTask procedure to the task manager.\n",
    "        self.taskMgr.add(self.spinCameraTask, \"SpinCameraTask\")\n",
    " \n",
    "        # Load and transform the panda actor.\n",
    "        self.pandaActor = Actor(\"models/panda-model\",\n",
    "                                {\"walk\": \"models/panda-walk4\"})\n",
    "        self.pandaActor.setScale(0.005, 0.005, 0.005)\n",
    "        self.pandaActor.reparentTo(self.render)\n",
    "        # Loop its animation.\n",
    "        self.pandaActor.loop(\"walk\")\n",
    " \n",
    "        # Create the four lerp intervals needed for the panda to\n",
    "        # walk back and forth.\n",
    "        pandaPosInterval1 = self.pandaActor.posInterval(13,\n",
    "                                                        Point3(0, -10, 0),\n",
    "                                                        startPos=Point3(0, 10, 0))\n",
    "        pandaPosInterval2 = self.pandaActor.posInterval(13,\n",
    "                                                        Point3(0, 10, 0),\n",
    "                                                        startPos=Point3(0, -10, 0))\n",
    "        pandaHprInterval1 = self.pandaActor.hprInterval(3,\n",
    "                                                        Point3(180, 0, 0),\n",
    "                                                        startHpr=Point3(0, 0, 0))\n",
    "        pandaHprInterval2 = self.pandaActor.hprInterval(3,\n",
    "                                                        Point3(0, 0, 0),\n",
    "                                                        startHpr=Point3(180, 0, 0))\n",
    " \n",
    "        # Create and play the sequence that coordinates the intervals.\n",
    "        self.pandaPace = Sequence(pandaPosInterval1,\n",
    "                                  pandaHprInterval1,\n",
    "                                  pandaPosInterval2,\n",
    "                                  pandaHprInterval2,\n",
    "                                  name=\"pandaPace\")\n",
    "        self.pandaPace.loop()\n",
    " \n",
    "    # Define a procedure to move the camera.\n",
    "    def spinCameraTask(self, task):\n",
    "        angleDegrees = task.time * 6.0\n",
    "        angleRadians = angleDegrees * (pi / 180.0)\n",
    "        self.camera.setPos(20 * sin(angleRadians), -20.0 * cos(angleRadians), 3)\n",
    "        self.camera.setHpr(angleDegrees, 0, 0)\n",
    "        return Task.cont\n",
    " \n",
    "app = MyApp()\n",
    "#app.run()\n",
    "for i in range(1500):\n",
    "    taskMgr.step()\n",
    "app.destroy()"
   ]
  },
  {
   "cell_type": "markdown",
   "metadata": {},
   "source": [
    "When `pandaPosInterval1` is started it will gradually adjust the position of the panda from (0,10,0) to (0,-10,0) over a period of 13 seconds. The other intervals work in a similar method, and when put together into a sequence it creates the animation of the panda walking back and forth"
   ]
  },
  {
   "cell_type": "code",
   "execution_count": null,
   "metadata": {
    "collapsed": true
   },
   "outputs": [],
   "source": []
  }
 ],
 "metadata": {
  "kernelspec": {
   "display_name": "Python [conda env:PandaRL]",
   "language": "python",
   "name": "conda-env-PandaRL-py"
  },
  "language_info": {
   "codemirror_mode": {
    "name": "ipython",
    "version": 3
   },
   "file_extension": ".py",
   "mimetype": "text/x-python",
   "name": "python",
   "nbconvert_exporter": "python",
   "pygments_lexer": "ipython3",
   "version": "3.6.2"
  }
 },
 "nbformat": 4,
 "nbformat_minor": 2
}
